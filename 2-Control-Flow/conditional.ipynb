{
 "cells": [
  {
   "cell_type": "code",
   "execution_count": null,
   "id": "6082731d",
   "metadata": {},
   "outputs": [
    {
     "name": "stdout",
     "output_type": "stream",
     "text": [
      "You are eligible to vote\n"
     ]
    }
   ],
   "source": [
    "## if statement \n",
    "## if statement evaluates the condition and execute the block of code within it if the condition is true \n",
    "age = 20\n",
    "\n",
    "if age >= 18:\n",
    "    print(\"You are eligible to vote\")"
   ]
  },
  {
   "cell_type": "code",
   "execution_count": 2,
   "metadata": {},
   "outputs": [
    {
     "data": {
      "text/plain": [
       "True"
      ]
     },
     "execution_count": 2,
     "metadata": {},
     "output_type": "execute_result"
    }
   ],
   "source": [
    "age >= 18"
   ]
  },
  {
   "cell_type": "code",
   "execution_count": 5,
   "metadata": {},
   "outputs": [
    {
     "name": "stdout",
     "output_type": "stream",
     "text": [
      "You are a minor\n"
     ]
    }
   ],
   "source": [
    "## else \n",
    "## The else statement executes a block of code if the condtion in the if statement is false\n",
    "\n",
    "age = 16\n",
    "\n",
    "if age >= 18:\n",
    "    print(\"You are eligible to vote\")\n",
    "else:\n",
    "    print(\"You are a minor\")\n"
   ]
  },
  {
   "cell_type": "code",
   "execution_count": 6,
   "id": "865c84ee",
   "metadata": {},
   "outputs": [
    {
     "data": {
      "text/plain": [
       "False"
      ]
     },
     "execution_count": 6,
     "metadata": {},
     "output_type": "execute_result"
    }
   ],
   "source": [
    "age>=18"
   ]
  },
  {
   "cell_type": "code",
   "execution_count": 10,
   "id": "9d1f9e24",
   "metadata": {},
   "outputs": [
    {
     "name": "stdout",
     "output_type": "stream",
     "text": [
      "You are an adult\n"
     ]
    }
   ],
   "source": [
    "## elif statement\n",
    "## This elif statement allows you to check multiple conditions. It stands for \"else if\"\n",
    "\n",
    "age = 18\n",
    "\n",
    "if age < 13:\n",
    "    print(\"You are a child\")\n",
    "elif age<18:\n",
    "    print(\"You are a teenager\")\n",
    "else:\n",
    "    print(\"You are an adult\")"
   ]
  },
  {
   "cell_type": "code",
   "execution_count": null,
   "id": "50f40811",
   "metadata": {},
   "outputs": [
    {
     "name": "stdout",
     "output_type": "stream",
     "text": [
      "The number is positive\n",
      "55 is an odd number\n"
     ]
    }
   ],
   "source": [
    "## Nested Conditional statements \n",
    "## You can place one or more if, elif, or else statements inside another if, elif , or else statements to create nested conditional statements \n",
    "\n",
    "## number even , odd , negative , zero\n",
    "\n",
    "num = int(input())\n",
    "if num > 0:\n",
    "    print(\"The number is positive\")\n",
    "    if num % 2 == 0:\n",
    "        print(f\"{num} is an even number\")\n",
    "    else: \n",
    "        print(f\"{num} is an odd number\")\n",
    "elif num == 0 :\n",
    "    print(\"It is zero\")\n",
    "else:\n",
    "    print(\"It is negative\")\n",
    "      \n",
    "      \n",
    "\n",
    "    "
   ]
  },
  {
   "cell_type": "code",
   "execution_count": 23,
   "metadata": {},
   "outputs": [
    {
     "name": "stdout",
     "output_type": "stream",
     "text": [
      "It is leap year\n"
     ]
    }
   ],
   "source": [
    "## Practical Example \n",
    "## Leap year : A leap year is divible by 4 but not by 100 unless it is divisible by 400\n",
    "\n",
    "year = int(input())\n",
    "\n",
    "if year % 4 == 0:\n",
    "    if year % 100 == 0:\n",
    "        if year % 400 == 0:\n",
    "            print(\"It is leap year\")\n",
    "        else:\n",
    "            print(\"It is not leap year\")\n",
    "    else:\n",
    "        print(\"It is leap year\")\n",
    "else:\n",
    "    print(\"It is not leap year\")\n"
   ]
  },
  {
   "cell_type": "code",
   "execution_count": 3,
   "metadata": {},
   "outputs": [
    {
     "name": "stdout",
     "output_type": "stream",
     "text": [
      "Error! Division by zero\n"
     ]
    }
   ],
   "source": [
    "# Simple Calculatorr program \n",
    "\n",
    "num1 = float(input())\n",
    "num2 = float(input())\n",
    "operator = input(\"Enter operations : + , - , * , /\")\n",
    "\n",
    "if operator == '+':\n",
    "    print(num1 + num2) \n",
    "elif operator == '-':\n",
    "     print(num1 - num2)\n",
    "elif operator == '*':\n",
    "     print(num1*num2)\n",
    "elif operator == '/':\n",
    "     if num2!=0:\n",
    "          print(num1/num2)   \n",
    "     else:\n",
    "          print(\"Error! Division by zero\")    \n",
    "else:\n",
    "     print(\"Invalid operator\")"
   ]
  },
  {
   "cell_type": "code",
   "execution_count": null,
   "id": "d8bf595e",
   "metadata": {},
   "outputs": [],
   "source": []
  },
  {
   "cell_type": "code",
   "execution_count": null,
   "metadata": {},
   "outputs": [],
   "source": []
  },
  {
   "cell_type": "code",
   "execution_count": null,
   "metadata": {},
   "outputs": [],
   "source": []
  },
  {
   "cell_type": "code",
   "execution_count": null,
   "id": "aa2413af",
   "metadata": {},
   "outputs": [
    {
     "name": "stdout",
     "output_type": "stream",
     "text": [
      "It is a leap year\n"
     ]
    }
   ],
   "source": [
    "## Practical Examples\n",
    "\n",
    "## Determine if a year is a leap year using nested condition statement\n",
    "\n",
    "year=int(input(\"Enter the year\"))\n",
    "\n",
    "if year%4 ==0:\n",
    "    if year%100==0:\n",
    "        if year%400==0:\n",
    "            print(\"It is a leap year\")\n",
    "        else:\n",
    "            print(\"It is not a leap year\")\n",
    "    else:\n",
    "        print(\"It is a leap year\")\n",
    "else:\n",
    "    print(\"It is not a leap year\")"
   ]
  },
  {
   "cell_type": "code",
   "execution_count": 1,
   "id": "5b06c9ed",
   "metadata": {},
   "outputs": [
    {
     "name": "stdout",
     "output_type": "stream",
     "text": [
      "16\n"
     ]
    }
   ],
   "source": [
    "## Assignment\n",
    "## Simple Calculator program\n",
    "# Take user input\n",
    "\n",
    "num1=int(input())\n",
    "num2=int(input())\n",
    "operater=input((\"Enter the operater :\"))\n",
    "\n",
    "if operater=='+':\n",
    "    print(num1 + num2)\n",
    "elif operater=='-':\n",
    "    print(num1-num2)\n",
    "elif operater=='*':\n",
    "    print(num1*num2)\n",
    "elif operater=='/':\n",
    "    print(num1/num2)\n",
    "elif operater==\"%\":\n",
    "    print(num1%num2)\n",
    "elif operater=='//':\n",
    "    print(num1//num2)"
   ]
  },
  {
   "cell_type": "code",
   "execution_count": null,
   "id": "2c4cb604",
   "metadata": {},
   "outputs": [],
   "source": []
  },
  {
   "cell_type": "code",
   "execution_count": null,
   "id": "57fbca7c",
   "metadata": {},
   "outputs": [],
   "source": []
  }
 ],
 "metadata": {
  "kernelspec": {
   "display_name": "Python 3",
   "language": "python",
   "name": "python3"
  },
  "language_info": {
   "codemirror_mode": {
    "name": "ipython",
    "version": 3
   },
   "file_extension": ".py",
   "mimetype": "text/x-python",
   "name": "python",
   "nbconvert_exporter": "python",
   "pygments_lexer": "ipython3",
   "version": "3.12.0"
  }
 },
 "nbformat": 4,
 "nbformat_minor": 5
}
