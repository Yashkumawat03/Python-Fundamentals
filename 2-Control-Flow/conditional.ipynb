{
 "cells": [
  {
   "cell_type": "code",
   "execution_count": null,
   "id": "aa2413af",
   "metadata": {},
   "outputs": [
    {
     "name": "stdout",
     "output_type": "stream",
     "text": [
      "It is a leap year\n"
     ]
    }
   ],
   "source": [
    "## Practical Examples\n",
    "\n",
    "## Determine if a year is a leap year using nested condition statement\n",
    "\n",
    "year=int(input(\"Enter the year\"))\n",
    "\n",
    "if year%4 ==0:\n",
    "    if year%100==0:\n",
    "        if year%400==0:\n",
    "            print(\"It is a leap year\")\n",
    "        else:\n",
    "            print(\"It is not a leap year\")\n",
    "    else:\n",
    "        print(\"It is a leap year\")\n",
    "else:\n",
    "    print(\"It is not a leap year\")"
   ]
  },
  {
   "cell_type": "code",
   "execution_count": 1,
   "id": "5b06c9ed",
   "metadata": {},
   "outputs": [
    {
     "name": "stdout",
     "output_type": "stream",
     "text": [
      "16\n"
     ]
    }
   ],
   "source": [
    "## Assignment\n",
    "## Simple Calculator program\n",
    "# Take user input\n",
    "\n",
    "num1=int(input())\n",
    "num2=int(input())\n",
    "operater=input((\"Enter the operater :\"))\n",
    "\n",
    "if operater=='+':\n",
    "    print(num1 + num2)\n",
    "elif operater=='-':\n",
    "    print(num1-num2)\n",
    "elif operater=='*':\n",
    "    print(num1*num2)\n",
    "elif operater=='/':\n",
    "    print(num1/num2)\n",
    "elif operater==\"%\":\n",
    "    print(num1%num2)\n",
    "elif operater=='//':\n",
    "    print(num1//num2)"
   ]
  },
  {
   "cell_type": "code",
   "execution_count": null,
   "id": "2c4cb604",
   "metadata": {},
   "outputs": [],
   "source": []
  },
  {
   "cell_type": "code",
   "execution_count": null,
   "id": "57fbca7c",
   "metadata": {},
   "outputs": [],
   "source": []
  }
 ],
 "metadata": {
  "kernelspec": {
   "display_name": "Python 3",
   "language": "python",
   "name": "python3"
  },
  "language_info": {
   "codemirror_mode": {
    "name": "ipython",
    "version": 3
   },
   "file_extension": ".py",
   "mimetype": "text/x-python",
   "name": "python",
   "nbconvert_exporter": "python",
   "pygments_lexer": "ipython3",
   "version": "3.12.0"
  }
 },
 "nbformat": 4,
 "nbformat_minor": 5
}
