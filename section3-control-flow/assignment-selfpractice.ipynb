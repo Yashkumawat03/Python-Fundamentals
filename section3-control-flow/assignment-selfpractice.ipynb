{
 "cells": [
  {
   "cell_type": "markdown",
   "id": "ba6731bd",
   "metadata": {},
   "source": [
    "# Module 2 Control Flow Assignments\n",
    "## Lesson 2.1: Conditional Statements\n",
    "### Assignment 1: Simple if Statement"
   ]
  },
  {
   "cell_type": "code",
   "execution_count": 7,
   "id": "a327baa3",
   "metadata": {},
   "outputs": [
    {
     "name": "stdout",
     "output_type": "stream",
     "text": [
      "It is a positive number.\n"
     ]
    }
   ],
   "source": [
    "## Write a program that asks the user to input a number and prints whether the number is positive.\n",
    "\n",
    "num = float(input())\n",
    "\n",
    "if num>0:\n",
    "    print(\"It is a positive number.\")\n"
   ]
  },
  {
   "cell_type": "markdown",
   "id": "cb5b3aae",
   "metadata": {},
   "source": [
    "### Assignment 2: if-else Statement"
   ]
  },
  {
   "cell_type": "code",
   "execution_count": null,
   "id": "2421265d",
   "metadata": {},
   "outputs": [
    {
     "name": "stdout",
     "output_type": "stream",
     "text": [
      "It is a positive number.\n"
     ]
    }
   ],
   "source": [
    "## Write a program that asks the user to input a number and prints whether the number is positive or negative.\n",
    "num = float(input())\n",
    "\n",
    "if num>0:\n",
    "    print(\"It is a positive number.\")\n",
    "else:\n",
    "    print(\"It is negative number.\")"
   ]
  },
  {
   "cell_type": "markdown",
   "id": "ba9a2276",
   "metadata": {},
   "source": [
    "### Assignment 3: if-elif-else Statement"
   ]
  },
  {
   "cell_type": "code",
   "execution_count": 8,
   "id": "a1adcc4c",
   "metadata": {},
   "outputs": [
    {
     "name": "stdout",
     "output_type": "stream",
     "text": [
      "It is a positive number.\n"
     ]
    }
   ],
   "source": [
    "## Write a program that asks the user to input a number and prints whether the number is positive, negative, or zero.\n",
    "\n",
    "num = float(input())\n",
    "\n",
    "if num>0:\n",
    "    print(\"It is a positive number.\")\n",
    "elif num<0:\n",
    "    print(\"It is  negative number.\")\n",
    "else:\n",
    "    print(\"It is zero.\")"
   ]
  },
  {
   "cell_type": "markdown",
   "id": "ba8cc332",
   "metadata": {},
   "source": [
    "### Assignment 4: Nested if Statement"
   ]
  },
  {
   "cell_type": "code",
   "execution_count": 10,
   "id": "d73a6389",
   "metadata": {},
   "outputs": [
    {
     "name": "stdout",
     "output_type": "stream",
     "text": [
      "-30.21 is negative\n"
     ]
    }
   ],
   "source": [
    "## Write a program that asks the user to input a number and prints\n",
    "#  whether the number is positive and even, positive and odd, or negative.\n",
    "\n",
    "num=float(input())\n",
    "\n",
    "if num>0:\n",
    "    if num%2==0:\n",
    "        print(f\"{num} is positive and even\")\n",
    "    else:\n",
    "        print(f\"{num} is positive and odd\")\n",
    "else:\n",
    "    print(f\"{num} is negative\")"
   ]
  },
  {
   "cell_type": "markdown",
   "id": "bba163fb",
   "metadata": {},
   "source": [
    "## Lesson 2.2: Loops\n",
    "### Assignment 5: for Loop"
   ]
  },
  {
   "cell_type": "code",
   "execution_count": 11,
   "id": "7fba06f8",
   "metadata": {},
   "outputs": [
    {
     "name": "stdout",
     "output_type": "stream",
     "text": [
      "1\n",
      "2\n",
      "3\n",
      "4\n",
      "5\n",
      "6\n",
      "7\n",
      "8\n",
      "9\n",
      "10\n"
     ]
    }
   ],
   "source": [
    "## Write a program that prints all the numbers from 1 to 10 using a for loop.\n",
    "\n",
    "for i in range(1,11):\n",
    "    print(i)"
   ]
  },
  {
   "cell_type": "markdown",
   "id": "0900f7ba",
   "metadata": {},
   "source": [
    "### Assignment 6: while Loop"
   ]
  },
  {
   "cell_type": "code",
   "execution_count": 17,
   "id": "72e5fd3c",
   "metadata": {},
   "outputs": [
    {
     "name": "stdout",
     "output_type": "stream",
     "text": [
      "1\n",
      "2\n",
      "3\n",
      "4\n",
      "5\n",
      "6\n",
      "7\n",
      "8\n",
      "9\n",
      "10\n"
     ]
    }
   ],
   "source": [
    "## Write a program that prints all the numbers from 1 to 10 using a while loop.\n",
    "\n",
    "i=1\n",
    "\n",
    "while i<=10:\n",
    "    print(i)\n",
    "    i+=1"
   ]
  },
  {
   "cell_type": "markdown",
   "id": "106ec4cf",
   "metadata": {},
   "source": [
    "### Assignment 7: Nested Loops"
   ]
  },
  {
   "cell_type": "code",
   "execution_count": null,
   "id": "2275be6d",
   "metadata": {},
   "outputs": [
    {
     "name": "stdout",
     "output_type": "stream",
     "text": [
      "* * * * * \n",
      "* * * * * \n",
      "* * * * * \n",
      "* * * * * \n",
      "* * * * * \n"
     ]
    }
   ],
   "source": [
    "## Write a program that prints a 5x5 grid of asterisks (*) using nested loops.\n",
    "\n",
    "for i in range(1,6):     # Outer loop for rows\n",
    "    for j in range(1,6): # Inner loop for columns\n",
    "        print(\"*\",end=\" \")    # print on same line\n",
    "    print()       # after inner loop, move to new line"
   ]
  },
  {
   "cell_type": "code",
   "execution_count": 30,
   "id": "13d805e1",
   "metadata": {},
   "outputs": [
    {
     "name": "stdout",
     "output_type": "stream",
     "text": [
      "\n",
      "* \n",
      "* * \n",
      "* * * \n",
      "* * * * \n"
     ]
    }
   ],
   "source": [
    "for i in range(5):\n",
    "    for j in range(i):\n",
    "        print(\"*\",end=\" \")\n",
    "    print()"
   ]
  },
  {
   "cell_type": "code",
   "execution_count": 44,
   "id": "219e84ee",
   "metadata": {},
   "outputs": [
    {
     "name": "stdout",
     "output_type": "stream",
     "text": [
      "* * * * * \n",
      "* * * * \n",
      "* * * \n",
      "* * \n",
      "* \n"
     ]
    }
   ],
   "source": [
    "for i in range(5,0,-1):\n",
    "    for j in range(i):\n",
    "        print(\"*\", end=\" \")\n",
    "    print()"
   ]
  },
  {
   "cell_type": "code",
   "execution_count": 48,
   "id": "4a36ac54",
   "metadata": {},
   "outputs": [
    {
     "name": "stdout",
     "output_type": "stream",
     "text": [
      "\n",
      "* \n",
      "* * \n",
      "* * * \n",
      "* * * * \n"
     ]
    }
   ],
   "source": [
    "for i in range(5):\n",
    "    for j in range(i):\n",
    "        print(\"*\", end=\" \")\n",
    "    print()"
   ]
  },
  {
   "cell_type": "code",
   "execution_count": null,
   "id": "63347282",
   "metadata": {},
   "outputs": [],
   "source": [
    "## Right-Angled Triangle (right-aligned)\n",
    "\n",
    "##Pracrice all pattern questions"
   ]
  },
  {
   "cell_type": "markdown",
   "id": "8e3af5e1",
   "metadata": {},
   "source": [
    "### Assignment 8: break Statement"
   ]
  },
  {
   "cell_type": "code",
   "execution_count": null,
   "id": "d15ca8c9",
   "metadata": {},
   "outputs": [
    {
     "name": "stdout",
     "output_type": "stream",
     "text": [
      "The sum of all the numbers are 869.0 869.0\n"
     ]
    }
   ],
   "source": [
    "## Write a program that asks the user to input numbers until they input 0.\n",
    "#  The program should print the sum of all the input numbers.\n",
    "\n",
    "sum=0\n",
    "while True:\n",
    "    number=float(input(\"Enter number\"))\n",
    "    if number==0:\n",
    "        break\n",
    "    sum+=number\n",
    "print(f\"The sum of all the numbers are {sum}\")"
   ]
  },
  {
   "cell_type": "markdown",
   "id": "115eeb0f",
   "metadata": {},
   "source": [
    "\n",
    "### Assignment 9: continue Statement"
   ]
  },
  {
   "cell_type": "code",
   "execution_count": 14,
   "id": "ea1fa2ff",
   "metadata": {},
   "outputs": [
    {
     "name": "stdout",
     "output_type": "stream",
     "text": [
      "1\n",
      "2\n",
      "3\n",
      "4\n",
      "6\n",
      "7\n",
      "8\n",
      "9\n",
      "10\n"
     ]
    }
   ],
   "source": [
    "##Write a program that prints all the numbers from 1 to 10 except 5 using a for loop and continue statement\n",
    "\n",
    "for i in range(1,11):\n",
    "    if i==5:\n",
    "        continue\n",
    "    print(i)"
   ]
  },
  {
   "cell_type": "markdown",
   "id": "30b33057",
   "metadata": {},
   "source": [
    "### Assignment 10: pass Statement"
   ]
  },
  {
   "cell_type": "code",
   "execution_count": null,
   "id": "23e4779e",
   "metadata": {},
   "outputs": [],
   "source": [
    "## Write a program that defines an empty function using the pass statement.\n",
    "\n",
    "def emptyfunction():\n",
    "    pass\n",
    "\n",
    "# Calling the empty function\n",
    "emptyfunction()"
   ]
  },
  {
   "cell_type": "markdown",
   "id": "51d8d779",
   "metadata": {},
   "source": [
    "### Assignment 11: Combining Loops and Conditionals\n"
   ]
  },
  {
   "cell_type": "code",
   "execution_count": 17,
   "id": "80612ddd",
   "metadata": {},
   "outputs": [
    {
     "name": "stdout",
     "output_type": "stream",
     "text": [
      "2\n",
      "4\n",
      "6\n",
      "8\n",
      "10\n"
     ]
    }
   ],
   "source": [
    "## Write a program that asks the user to input a number \n",
    "# and prints all the even numbers from 1 to that number using a for loop.\n",
    "\n",
    "number=int(input())\n",
    "for i in range(1,number+1):\n",
    "    if i%2==0:\n",
    "        print(i)"
   ]
  },
  {
   "cell_type": "markdown",
   "id": "d5c26333",
   "metadata": {},
   "source": [
    "### Assignment 12: Factorial Calculation"
   ]
  },
  {
   "cell_type": "code",
   "execution_count": 32,
   "id": "4ff14296",
   "metadata": {},
   "outputs": [
    {
     "name": "stdout",
     "output_type": "stream",
     "text": [
      "The factorial of 8 is 40320\n"
     ]
    }
   ],
   "source": [
    "## Write a program that calculates the factorial of a number input by the user using a while loop.\n",
    "\n",
    "num = int(input()) \n",
    "fact=1\n",
    "i=1\n",
    "while i <= num:\n",
    "    fact *=i\n",
    "    i +=1\n",
    "print(f\"The factorial of {num} is {fact}\")\n"
   ]
  },
  {
   "cell_type": "code",
   "execution_count": 35,
   "id": "42d4882d",
   "metadata": {},
   "outputs": [
    {
     "name": "stdout",
     "output_type": "stream",
     "text": [
      "The factorial of 4 is 24\n"
     ]
    }
   ],
   "source": [
    "## Factorial using for loop\n",
    "\n",
    "num=int(input())\n",
    "\n",
    "fact=1\n",
    "for i in range(1,num+1):\n",
    "    fact *= i\n",
    "print(f\"The factorial of {num} is {fact}\")"
   ]
  },
  {
   "cell_type": "markdown",
   "id": "398322c8",
   "metadata": {},
   "source": [
    "### Assignment 13: Sum of Digits"
   ]
  },
  {
   "cell_type": "code",
   "execution_count": 41,
   "id": "acdb10f9",
   "metadata": {},
   "outputs": [
    {
     "name": "stdout",
     "output_type": "stream",
     "text": [
      "The sum of digits of 78 is 15\n"
     ]
    }
   ],
   "source": [
    "\n",
    "## Write a program that calculates the sum of the digits of a number input by the user using a while loop.\n",
    "\n",
    "num = int(input())\n",
    "sum_of_digits = 0\n",
    "original_num = num\n",
    "while num > 0:\n",
    "    digit = num%10\n",
    "    sum_of_digits+= digit\n",
    "    num //= 10\n",
    "print(f\"The sum of digits of {original_num} is {sum_of_digits}\")\n",
    "\n",
    "\n"
   ]
  },
  {
   "cell_type": "code",
   "execution_count": null,
   "id": "d0f07baf",
   "metadata": {},
   "outputs": [],
   "source": [
    "number = int(input(\"Enter a number: \"))\n",
    "sum_of_digits = 0\n",
    "while number > 0:\n",
    "    digit = number % 10\n",
    "    sum_of_digits += digit\n",
    "    number = number // 10\n",
    "print(f\"The sum of the digits is {sum_of_digits}.\")"
   ]
  },
  {
   "cell_type": "markdown",
   "id": "ad2ea0a5",
   "metadata": {},
   "source": [
    "### Assignment 14: Prime Number Check"
   ]
  },
  {
   "cell_type": "code",
   "execution_count": 7,
   "id": "d44abb63",
   "metadata": {},
   "outputs": [
    {
     "name": "stdout",
     "output_type": "stream",
     "text": [
      "1 is not a prime number.\n"
     ]
    }
   ],
   "source": [
    "## Write a program that checks if a number input by the user is a prime number using a for loop.\n",
    "\n",
    "num = int(input())\n",
    "\n",
    "if num > 1:\n",
    "    for i in range(2,num):\n",
    "        if num % i == 0:\n",
    "            print(f\"{num} is not a prime number.\")\n",
    "            break\n",
    "    else:\n",
    "        print(f\"{num} is a prime number.\")\n",
    "else:\n",
    "    print(f\"{num} is not a prime number.\")"
   ]
  },
  {
   "cell_type": "markdown",
   "id": "8d7034cf",
   "metadata": {},
   "source": [
    "### Assignment 15: Fibonacci Sequence"
   ]
  },
  {
   "cell_type": "code",
   "execution_count": 9,
   "id": "204b2bd1",
   "metadata": {},
   "outputs": [
    {
     "name": "stdout",
     "output_type": "stream",
     "text": [
      "0 1 1 2 3 "
     ]
    }
   ],
   "source": [
    "## Write a program that prints the first n Fibonacci numbers, where n is input by the user.\n",
    "\n",
    "n = int(input())\n",
    "\n",
    "a,b = 0,1\n",
    "count=0\n",
    "\n",
    "while count <= n:\n",
    "    print(a, end = \" \")\n",
    "    a,b= b,a+b\n",
    "    count+=1\n",
    "\n",
    "\n",
    "\n",
    "   "
   ]
  },
  {
   "cell_type": "markdown",
   "id": "92c5ad0e",
   "metadata": {},
   "source": [
    "### Hackerrank Question"
   ]
  },
  {
   "cell_type": "code",
   "execution_count": 1,
   "id": "00992dcd",
   "metadata": {},
   "outputs": [
    {
     "name": "stdout",
     "output_type": "stream",
     "text": [
      "0\n",
      "1\n",
      "4\n",
      "9\n",
      "16\n",
      "25\n",
      "36\n",
      "49\n"
     ]
    }
   ],
   "source": [
    "n = int(input())\n",
    "for i in range(0,n):\n",
    "    square=i*i\n",
    "    print(square)"
   ]
  },
  {
   "cell_type": "markdown",
   "id": "55709049",
   "metadata": {},
   "source": []
  },
  {
   "cell_type": "code",
   "execution_count": null,
   "id": "04eaa394",
   "metadata": {},
   "outputs": [],
   "source": []
  }
 ],
 "metadata": {
  "kernelspec": {
   "display_name": "Python 3",
   "language": "python",
   "name": "python3"
  },
  "language_info": {
   "codemirror_mode": {
    "name": "ipython",
    "version": 3
   },
   "file_extension": ".py",
   "mimetype": "text/x-python",
   "name": "python",
   "nbconvert_exporter": "python",
   "pygments_lexer": "ipython3",
   "version": "3.12.0"
  }
 },
 "nbformat": 4,
 "nbformat_minor": 5
}
