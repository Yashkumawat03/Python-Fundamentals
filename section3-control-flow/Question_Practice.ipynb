{
 "cells": [
  {
   "cell_type": "code",
   "execution_count": null,
   "id": "c3fe74aa",
   "metadata": {},
   "outputs": [
    {
     "name": "stdout",
     "output_type": "stream",
     "text": [
      "It is positive number.\n"
     ]
    }
   ],
   "source": [
    "## 1. Check if a number is positive, negative or zero.\n",
    "\n",
    "num = int(input())\n",
    "\n",
    "if num > 0:\n",
    "    print(\"It is positive number.\")\n",
    "elif num < 0:\n",
    "    print(\"It is negative number.\")\n",
    "else:\n",
    "    print(\"It is zero.\")\n"
   ]
  },
  {
   "cell_type": "code",
   "execution_count": null,
   "id": "7b1cf181",
   "metadata": {},
   "outputs": [
    {
     "name": "stdout",
     "output_type": "stream",
     "text": [
      "-58 is an even number.\n"
     ]
    }
   ],
   "source": [
    "## 2. Check if a number is even or odd.\n",
    "\n",
    "num = int(input())\n",
    "\n",
    "if num % 2== 0:\n",
    "    print(f\"{num} is an even number.\")\n",
    "else:\n",
    "    print(f\"{num} is an odd number.\")"
   ]
  },
  {
   "cell_type": "code",
   "execution_count": null,
   "id": "2ce9eb5d",
   "metadata": {},
   "outputs": [
    {
     "name": "stdout",
     "output_type": "stream",
     "text": [
      "587 is the largest number.\n"
     ]
    }
   ],
   "source": [
    "## 3. Find the largest of three numbers.\n",
    "a=int(input())\n",
    "b=int(input())\n",
    "c=int(input())\n",
    "\n",
    "if(a > b and a > c ):\n",
    "    print(f\"{a} is the largest number.\")\n",
    "elif(b > a and b > a):\n",
    "    print(f\"{b} is the largest number.\")\n",
    "else:\n",
    "    print(f\"{c} is the largest number.\")"
   ]
  },
  {
   "cell_type": "code",
   "execution_count": null,
   "id": "b024566e",
   "metadata": {},
   "outputs": [
    {
     "name": "stdout",
     "output_type": "stream",
     "text": [
      "2000 is the leap year.\n"
     ]
    }
   ],
   "source": [
    "## 4. Check whether a given year is a leap year.\n",
    "\n",
    "year=int(input())\n",
    "\n",
    "if year % 4 == 0:\n",
    "    if year % 100 == 0:\n",
    "        if year % 400 == 0:\n",
    "            print(f\"{year} is the leap year.\")\n",
    "        else:\n",
    "            print(f\"{year} is not leap year. \")\n",
    "    else:\n",
    "        print(f\"{year} is the leap year.\")\n",
    "else:\n",
    "    print(f\"{year} is not leap year.\")"
   ]
  },
  {
   "cell_type": "code",
   "execution_count": null,
   "id": "9b50d202",
   "metadata": {},
   "outputs": [
    {
     "name": "stdout",
     "output_type": "stream",
     "text": [
      "Grade: E\n"
     ]
    }
   ],
   "source": [
    "## 5. Assign grades based on marks (like A, B, C...).\n",
    "marks=int(input())\n",
    "\n",
    "if marks >= 90:\n",
    "    print(\"Grade: A\")\n",
    "elif marks >= 80:\n",
    "    print(\"Grade: B\")\n",
    "elif marks >= 70:\n",
    "    print(\"Grade: C\")\n",
    "elif marks >= 60:\n",
    "    print(\"Grade: D\")\n",
    "elif marks >= 50:\n",
    "    print(\"Grade: E\")\n",
    "elif marks >= 0:\n",
    "    print(\"Grade: F (Fail)\")\n",
    "else:\n",
    "    print(\"Invalid input! Marks must be between 0 and 100.\")\n"
   ]
  },
  {
   "cell_type": "code",
   "execution_count": null,
   "id": "105b4ebb",
   "metadata": {},
   "outputs": [
    {
     "name": "stdout",
     "output_type": "stream",
     "text": [
      "Eligible for vote\n"
     ]
    }
   ],
   "source": [
    "## 6. A person is eligible to vote if age >= 18.\n",
    "\n",
    "age = int(input())\n",
    "\n",
    "if age >= 18:\n",
    "    print(\"Eligible for vote\")\n",
    "elif age < 17:\n",
    "    print(\"Not eligible for vote\")\n",
    "else:\n",
    "    print(\"Invalid age : Age cannot be negative\")"
   ]
  },
  {
   "cell_type": "code",
   "execution_count": null,
   "id": "9dd0b837",
   "metadata": {},
   "outputs": [
    {
     "name": "stdout",
     "output_type": "stream",
     "text": [
      "Inavlid alphabet. Please enter single alphabet.\n"
     ]
    }
   ],
   "source": [
    "## 7.Check if a character is a vowel or consonant.\n",
    "\n",
    "char=input()\n",
    "\n",
    "if len(char) == 1 and char.isalpha():\n",
    "    char = char.lower()\n",
    "    if char in 'aeiou':\n",
    "        print(f\"{char} is an vowel.\")\n",
    "    else:\n",
    "        print(f\"{char} is an consonant.\")\n",
    "else:\n",
    "    print(\"Inavlid alphabet. Please enter single alphabet.\")"
   ]
  },
  {
   "cell_type": "code",
   "execution_count": null,
   "id": "c46da29a",
   "metadata": {},
   "outputs": [
    {
     "name": "stdout",
     "output_type": "stream",
     "text": [
      "0 is an armstrong number.\n"
     ]
    }
   ],
   "source": [
    "## 8.Check if a number is an Armstrong number.\n",
    "\n",
    "a = int(input())\n",
    "sum=0\n",
    "num = a\n",
    "n = len(str(num))\n",
    "\n",
    "if a >=0 :\n",
    "    while a > 0:\n",
    "        digit = a % 10\n",
    "        temp = digit ** n\n",
    "        result += temp\n",
    "        a //= 10\n",
    "    if result == num:\n",
    "        print(f\"{num} is an armstrong number.\") \n",
    "    else:\n",
    "         print(f\"{num} is not an armstrong number.\")\n",
    "else:\n",
    "    print(\"Invalid input! Please enter a positive number.\")"
   ]
  },
  {
   "cell_type": "code",
   "execution_count": 6,
   "id": "500574f9",
   "metadata": {},
   "outputs": [
    {
     "name": "stdout",
     "output_type": "stream",
     "text": [
      "Invalid Triangle\n"
     ]
    }
   ],
   "source": [
    "## Triangle validity checker using 3 side lengths.\n",
    "\n",
    "\n",
    "a = int(input())\n",
    "b = int(input())\n",
    "c = int(input())\n",
    "\n",
    "if a > 0 and b > 0 and c >0:\n",
    "    if a + b > c and b + c > a and a + c > b:\n",
    "        print(\"Valid Triangle\")\n",
    "    else:\n",
    "        print(\"Invalid Triangle\")\n",
    "else:\n",
    "    print(\"Invalid sides . Enter positive sides\")"
   ]
  },
  {
   "cell_type": "code",
   "execution_count": null,
   "id": "9009ce1a",
   "metadata": {},
   "outputs": [],
   "source": [
    "## Simple calculator using if-elif-else (input: operation and 2 numbers).\n",
    "\n",
    "\n",
    "a = float(input())\n",
    "b = float(input())\n",
    "operator = input(\"Enter operation : +, -, *,/,%,//\")\n",
    "\n",
    "if operator == '+':\n",
    "    print(a + b)\n",
    "elif operator == '-' :\n",
    "    print(a - b)\n",
    "elif operator == '*' :\n",
    "    print(a * b)\n",
    "elif operator == '/' :\n",
    "    print(a / b)\n",
    "elif operator == '%' :\n",
    "    print(a % b)\n",
    "elif operator == '//':\n",
    "    if b != 0:\n",
    "        print(a // b)\n",
    "    else:\n",
    "        print(\"Floor division not possible.\")\n",
    "else :\n",
    "    print(\"Invalid operator\")"
   ]
  },
  {
   "cell_type": "markdown",
   "id": "3f505751",
   "metadata": {},
   "source": [
    "### Loop "
   ]
  },
  {
   "cell_type": "code",
   "execution_count": null,
   "id": "c48a5cf6",
   "metadata": {},
   "outputs": [],
   "source": []
  }
 ],
 "metadata": {
  "kernelspec": {
   "display_name": "Python 3",
   "language": "python",
   "name": "python3"
  },
  "language_info": {
   "codemirror_mode": {
    "name": "ipython",
    "version": 3
   },
   "file_extension": ".py",
   "mimetype": "text/x-python",
   "name": "python",
   "nbconvert_exporter": "python",
   "pygments_lexer": "ipython3",
   "version": "3.12.0"
  }
 },
 "nbformat": 4,
 "nbformat_minor": 5
}
